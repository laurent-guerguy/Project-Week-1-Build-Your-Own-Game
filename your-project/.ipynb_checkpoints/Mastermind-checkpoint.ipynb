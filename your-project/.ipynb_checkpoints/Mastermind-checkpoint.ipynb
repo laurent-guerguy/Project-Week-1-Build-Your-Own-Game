{
 "cells": [
  {
   "cell_type": "code",
   "execution_count": 2,
   "metadata": {},
   "outputs": [],
   "source": [
    "# import libraries\n",
    "import random"
   ]
  },
  {
   "cell_type": "code",
   "execution_count": 3,
   "metadata": {},
   "outputs": [],
   "source": [
    "# Set the variables\n",
    "computer = []\n",
    "player = []\n",
    "round_number = 10\n",
    "colours = [\"Blue\",\"Green\",\"Orange\",\"Pink\",\"Red\",\"Yellow\"]\n",
    "#result = []"
   ]
  },
  {
   "cell_type": "code",
   "execution_count": 8,
   "metadata": {},
   "outputs": [
    {
     "name": "stdout",
     "output_type": "stream",
     "text": [
      "['Red', 'Red', 'Green', 'Blue']\n"
     ]
    }
   ],
   "source": [
    "# Define the functions to be used in the code below\n",
    "## Define a random generator function to generate the computer choice of colours and positions\n",
    "def randomColour():\n",
    "    a = [random.choice(colours) for i in range(4)]\n",
    "    return(a)"
   ]
  },
  {
   "cell_type": "code",
   "execution_count": 33,
   "metadata": {},
   "outputs": [
    {
     "name": "stdout",
     "output_type": "stream",
     "text": [
      "['Black', 'Nothing', 'White', 'White']\n"
     ]
    }
   ],
   "source": [
    "## Define a function to give the result of a round: \n",
    "### Black means the right colour in the right position\n",
    "### White means this colour is present in the computer choice but in the wrong position\n",
    "\n",
    "computer = ['Red', 'Red', 'Green', 'Blue']\n",
    "#player = ['Pink', 'Pink', 'Pink', 'Pink']\n",
    "#player = ['Red', 'Pink', 'Red', 'Pink']\n",
    "#player = ['Red', 'Pink', 'Red', 'Blue']\n",
    "player = ['Red', 'Pink', 'Red', 'Green']\n",
    "\n",
    "def giveResult():\n",
    "    b = []\n",
    "    for i in range(len(player)):\n",
    "    # Check if there is any White in the results and add it to the list [b]\n",
    "        for j in range(len(computer)):\n",
    "            if player[i] == computer[j]:\n",
    "                a = \"White\"\n",
    "                break\n",
    "            else:\n",
    "                a = \"Nothing\"\n",
    "    # Check if there is any Black in the results and add it to the list [b]\n",
    "        if player[i] == computer[i]:\n",
    "                a = \"Black\"\n",
    "        b.append(a)\n",
    "    return b\n",
    "\n",
    "result = giveResult()\n",
    "print(result)"
   ]
  },
  {
   "cell_type": "code",
   "execution_count": null,
   "metadata": {},
   "outputs": [],
   "source": [
    "b = []\n",
    "for i in range(len(player)):\n",
    "    for j in range(len(computer)):\n",
    "        if player[i] == computer[j]:\n",
    "            a = \"White\"\n",
    "            break\n",
    "        else:\n",
    "            a = \"Nothing\"\n",
    "    if player[i] == computer[i]:\n",
    "            a = \"Black\"\n",
    "    b.append(a)\n",
    "print(b)"
   ]
  },
  {
   "cell_type": "code",
   "execution_count": null,
   "metadata": {},
   "outputs": [],
   "source": [
    "for i in range(len(player)):\n",
    "    for j in range(len(computer)):\n",
    "        if player[i] == computer[j]:\n",
    "            a = \"White\"\n",
    "            b.append(a)\n",
    "            break\n",
    "        else:\n",
    "            a = \"Nothing\"\n",
    "    b.append(a)\n",
    "print(b)"
   ]
  },
  {
   "cell_type": "code",
   "execution_count": null,
   "metadata": {},
   "outputs": [],
   "source": [
    "for i in range(len(player)-1):\n",
    "    if player[i] == computer[j]:\n",
    "            a = \"Black\"\n",
    "            b.append(a)\n",
    "            break"
   ]
  },
  {
   "cell_type": "code",
   "execution_count": null,
   "metadata": {},
   "outputs": [],
   "source": []
  }
 ],
 "metadata": {
  "kernelspec": {
   "display_name": "Python 3",
   "language": "python",
   "name": "python3"
  },
  "language_info": {
   "codemirror_mode": {
    "name": "ipython",
    "version": 3
   },
   "file_extension": ".py",
   "mimetype": "text/x-python",
   "name": "python",
   "nbconvert_exporter": "python",
   "pygments_lexer": "ipython3",
   "version": "3.7.3"
  }
 },
 "nbformat": 4,
 "nbformat_minor": 2
}
