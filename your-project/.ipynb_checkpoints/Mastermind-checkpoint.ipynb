{
 "cells": [
  {
   "cell_type": "code",
   "execution_count": 151,
   "metadata": {},
   "outputs": [],
   "source": [
    "# import libraries\n",
    "import random"
   ]
  },
  {
   "cell_type": "code",
   "execution_count": 152,
   "metadata": {},
   "outputs": [],
   "source": [
    "# Set the variables respectively for the choice of the computer, the choice of the player, the number of rounds \n",
    "# and define the colours available.\n",
    "computer = []\n",
    "player = [\"\", \"\", \"\",\"\"]\n",
    "round_number = 10\n",
    "colours = [\"blue\",\"green\",\"orange\",\"pink\",\"red\",\"yellow\"]\n",
    "result = []"
   ]
  },
  {
   "cell_type": "code",
   "execution_count": 153,
   "metadata": {},
   "outputs": [],
   "source": [
    "# Define the functions to be used in the code below\n",
    "\n",
    "## Define a random generator function to generate the computer choice of colours and positions\n",
    "def randomColour():\n",
    "    a = [random.choice(colours) for i in range(4)]\n",
    "    return(a)"
   ]
  },
  {
   "cell_type": "code",
   "execution_count": 154,
   "metadata": {},
   "outputs": [],
   "source": [
    "## Define a function to give the result of a round: \n",
    "### Black means the right colour in the right position\n",
    "### White means this colour is present in the computer choice but in the wrong position\n",
    "\n",
    "def giveResult():\n",
    "    b = [\"nothing\", \"nothing\", \"nothing\", \"nothing\"]\n",
    "    computer = list(computer_tuple)\n",
    "    computer_bis = computer\n",
    "    for i in range(len(player)):\n",
    "    # Check if there are any Blacks in the results and add it to the list [b]\n",
    "        if player[i] == computer[i]:\n",
    "            b[i] = \"black\"\n",
    "            computer_bis[i] = \"taken\"\n",
    "    for i in range(len(player)):\n",
    "    # Check if there are any Whites in the results and add it to the list [b]\n",
    "        for j in range(len(computer)):\n",
    "            if player[i] == computer_bis[j]:\n",
    "                b[i] = \"white\"\n",
    "                computer_bis[j] = \"taken\"\n",
    "                break\n",
    "    result = [b]\n",
    "    return print(f\"\\nThe result is {b}\\n\")"
   ]
  },
  {
   "cell_type": "code",
   "execution_count": 155,
   "metadata": {},
   "outputs": [],
   "source": [
    "# Define the choice colours of the computer\n",
    "\n",
    "## The result of randomColour is a list that I transform to a tuple called computer_tuple so it stays unchanged as a\n",
    "## reference for the initial computer choice of colours. \n",
    "## NOTE: The computer variable is modified during the giveResult function (for reasons I don't have time to solve \n",
    "## now). That is why I need to create and use computer_tuple.\n",
    "\n",
    "computer_tuple = tuple(randomColour())"
   ]
  },
  {
   "cell_type": "code",
   "execution_count": 156,
   "metadata": {},
   "outputs": [],
   "source": [
    "# Define a function to ask the player to choose 4 colours between blue, green, orange, pink, red, yellow \n",
    "def askPlayer():\n",
    "    for i in range(len(computer)):\n",
    "        player[i] = input(f\"Choose a colour (blue, green, orange, pink, red or yellow) for position number {i+1}: \")\n",
    "        if player[i] not in colours:\n",
    "            print(\"Wrong entry. Please enter a colour (no space, all small letters) from blue, green, orange, pink, red and yellow\")\n",
    "askPlayer()"
   ]
  },
  {
   "cell_type": "code",
   "execution_count": 157,
   "metadata": {},
   "outputs": [],
   "source": [
    "# Define the choice of the computer\n",
    "computer = randomColour()"
   ]
  },
  {
   "cell_type": "code",
   "execution_count": 159,
   "metadata": {},
   "outputs": [
    {
     "name": "stdout",
     "output_type": "stream",
     "text": [
      "This is round number 1\n",
      "Choose a colour (blue, green, orange, pink, red or yellow) for position number 1: blue\n",
      "Choose a colour (blue, green, orange, pink, red or yellow) for position number 2: red\n",
      "Choose a colour (blue, green, orange, pink, red or yellow) for position number 3: yellow\n",
      "Choose a colour (blue, green, orange, pink, red or yellow) for position number 4: green\n",
      "\n",
      "The result is ['nothing', 'white', 'nothing', 'white']\n",
      "\n",
      "This is round number 2\n",
      "Choose a colour (blue, green, orange, pink, red or yellow) for position number 1: orange\n",
      "Choose a colour (blue, green, orange, pink, red or yellow) for position number 2: blue\n",
      "Choose a colour (blue, green, orange, pink, red or yellow) for position number 3: green\n",
      "Choose a colour (blue, green, orange, pink, red or yellow) for position number 4: yellow\n",
      "\n",
      "The result is ['nothing', 'nothing', 'white', 'nothing']\n",
      "\n",
      "This is round number 3\n",
      "Choose a colour (blue, green, orange, pink, red or yellow) for position number 1: red\n",
      "Choose a colour (blue, green, orange, pink, red or yellow) for position number 2: pink\n",
      "Choose a colour (blue, green, orange, pink, red or yellow) for position number 3: green\n",
      "Choose a colour (blue, green, orange, pink, red or yellow) for position number 4: blue\n",
      "\n",
      "The result is ['white', 'white', 'white', 'nothing']\n",
      "\n",
      "This is round number 4\n",
      "Choose a colour (blue, green, orange, pink, red or yellow) for position number 1: red\n",
      "Choose a colour (blue, green, orange, pink, red or yellow) for position number 2: yellow\n",
      "Choose a colour (blue, green, orange, pink, red or yellow) for position number 3: orange\n",
      "Choose a colour (blue, green, orange, pink, red or yellow) for position number 4: green\n",
      "\n",
      "The result is ['white', 'nothing', 'nothing', 'white']\n",
      "\n",
      "This is round number 5\n",
      "Choose a colour (blue, green, orange, pink, red or yellow) for position number 1: pink\n",
      "Choose a colour (blue, green, orange, pink, red or yellow) for position number 2: orange\n",
      "Choose a colour (blue, green, orange, pink, red or yellow) for position number 3: yellow\n",
      "Choose a colour (blue, green, orange, pink, red or yellow) for position number 4: green\n",
      "\n",
      "The result is ['white', 'nothing', 'nothing', 'white']\n",
      "\n",
      "This is round number 6\n",
      "Choose a colour (blue, green, orange, pink, red or yellow) for position number 1: orange\n",
      "Choose a colour (blue, green, orange, pink, red or yellow) for position number 2: red\n",
      "Choose a colour (blue, green, orange, pink, red or yellow) for position number 3: blue\n",
      "Choose a colour (blue, green, orange, pink, red or yellow) for position number 4: blue\n",
      "\n",
      "The result is ['nothing', 'white', 'nothing', 'nothing']\n",
      "\n",
      "This is round number 7\n",
      "Choose a colour (blue, green, orange, pink, red or yellow) for position number 1: green\n",
      "Choose a colour (blue, green, orange, pink, red or yellow) for position number 2: green\n",
      "Choose a colour (blue, green, orange, pink, red or yellow) for position number 3: yellow\n",
      "Choose a colour (blue, green, orange, pink, red or yellow) for position number 4: pink\n",
      "\n",
      "The result is ['nothing', 'black', 'nothing', 'black']\n",
      "\n",
      "This is round number 8\n",
      "Choose a colour (blue, green, orange, pink, red or yellow) for position number 1: red\n",
      "Choose a colour (blue, green, orange, pink, red or yellow) for position number 2: yellow\n",
      "Choose a colour (blue, green, orange, pink, red or yellow) for position number 3: green\n",
      "Choose a colour (blue, green, orange, pink, red or yellow) for position number 4: orange\n",
      "\n",
      "The result is ['white', 'nothing', 'white', 'nothing']\n",
      "\n",
      "This is round number 9\n",
      "Choose a colour (blue, green, orange, pink, red or yellow) for position number 1: green\n",
      "Choose a colour (blue, green, orange, pink, red or yellow) for position number 2: blue\n",
      "Choose a colour (blue, green, orange, pink, red or yellow) for position number 3: red\n",
      "Choose a colour (blue, green, orange, pink, red or yellow) for position number 4: red\n",
      "\n",
      "The result is ['white', 'nothing', 'white', 'nothing']\n",
      "\n",
      "This is round number 10\n",
      "Choose a colour (blue, green, orange, pink, red or yellow) for position number 1: yellow\n",
      "Choose a colour (blue, green, orange, pink, red or yellow) for position number 2: orange\n",
      "Choose a colour (blue, green, orange, pink, red or yellow) for position number 3: pink\n",
      "Choose a colour (blue, green, orange, pink, red or yellow) for position number 4: blue\n",
      "\n",
      "The result is ['nothing', 'nothing', 'white', 'nothing']\n",
      "\n",
      "Sorry but you lost. The answer was ('red', 'green', 'red', 'pink')\n"
     ]
    }
   ],
   "source": [
    "# Play the game. The game is composed of a maximum of 10 rounds. if after 10 rounds the user has not found the \n",
    "# computer's choice then the computer wins\n",
    "for i in range(10):\n",
    "    print(f\"This is round number {i+1}\")\n",
    "    askPlayer()\n",
    "    giveResult()\n",
    "    if result == [\"black\", \"black\", \"black\", \"black\"]:\n",
    "        print(\"Congratulations! You won!!\")\n",
    "print(f\"Sorry but you lost. The answer was {computer_tuple}\")"
   ]
  },
  {
   "cell_type": "code",
   "execution_count": null,
   "metadata": {},
   "outputs": [],
   "source": []
  },
  {
   "cell_type": "code",
   "execution_count": null,
   "metadata": {},
   "outputs": [],
   "source": [
    "\n"
   ]
  }
 ],
 "metadata": {
  "kernelspec": {
   "display_name": "Python 3",
   "language": "python",
   "name": "python3"
  },
  "language_info": {
   "codemirror_mode": {
    "name": "ipython",
    "version": 3
   },
   "file_extension": ".py",
   "mimetype": "text/x-python",
   "name": "python",
   "nbconvert_exporter": "python",
   "pygments_lexer": "ipython3",
   "version": "3.7.3"
  }
 },
 "nbformat": 4,
 "nbformat_minor": 2
}
