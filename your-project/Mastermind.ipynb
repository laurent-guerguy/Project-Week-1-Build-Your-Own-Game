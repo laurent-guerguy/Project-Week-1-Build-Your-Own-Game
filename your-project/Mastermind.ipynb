{
 "cells": [
  {
   "cell_type": "code",
   "execution_count": 2,
   "metadata": {},
   "outputs": [],
   "source": [
    "# import libraries\n",
    "import random"
   ]
  },
  {
   "cell_type": "code",
   "execution_count": 3,
   "metadata": {},
   "outputs": [],
   "source": [
    "# Set the variables respectively for the choice of the computer, the choice of the player, the number of rounds \n",
    "# and define the colours available.\n",
    "computer = []\n",
    "player = []\n",
    "round_number = 10\n",
    "colours = [\"Blue\",\"Green\",\"Orange\",\"Pink\",\"Red\",\"Yellow\"]\n",
    "#result = []"
   ]
  },
  {
   "cell_type": "code",
   "execution_count": 8,
   "metadata": {},
   "outputs": [
    {
     "name": "stdout",
     "output_type": "stream",
     "text": [
      "['Red', 'Red', 'Green', 'Blue']\n"
     ]
    }
   ],
   "source": [
    "# Define the functions to be used in the code below\n",
    "## Define a random generator function to generate the computer choice of colours and positions\n",
    "def randomColour():\n",
    "    a = [random.choice(colours) for i in range(4)]\n",
    "    return(a)"
   ]
  },
  {
   "cell_type": "code",
   "execution_count": 83,
   "metadata": {},
   "outputs": [
    {
     "name": "stdout",
     "output_type": "stream",
     "text": [
      "The result is ['Black', 'White', 'White', 'Nothing'] and computer_bis is ['Taken', 'Taken', 'Taken', 'Blue']\n"
     ]
    }
   ],
   "source": [
    "## Define a function to give the result of a round: \n",
    "### Black means the right colour in the right position\n",
    "### White means this colour is present in the computer choice but in the wrong position\n",
    "\n",
    "computer = ['Red', 'Yellow', 'Green', 'Blue']\n",
    "#player = ['Pink', 'Pink', 'Pink', 'Pink']\n",
    "#player = ['Red', 'Pink', 'Red', 'Pink']\n",
    "#player = ['Red', 'Pink', 'Red', 'Blue']\n",
    "#player = ['Red', 'Pink', 'Red', 'Green']\n",
    "#player = ['Red', 'Pink', 'Blue', 'Green']\n",
    "player = ['Red', 'Green', 'Yellow', 'Yellow']\n",
    "\n",
    "def giveResult():\n",
    "    b = [\"Nothing\", \"Nothing\", \"Nothing\", \"Nothing\"]\n",
    "    computer_bis = computer\n",
    "    for i in range(len(player)):\n",
    "    # Check if there are any Blacks in the results and add it to the list [b]\n",
    "        if player[i] == computer[i]:\n",
    "            b[i] = \"Black\"\n",
    "            computer_bis[i] = \"Taken\"\n",
    "\n",
    "    for i in range(len(player)):\n",
    "    # Check if there are any Whites in the results and add it to the list [b]\n",
    "        for j in range(len(computer)):\n",
    "            if player[i] == computer_bis[j]:\n",
    "                b[i] = \"White\"\n",
    "                computer_bis[j] = \"Taken\"\n",
    "                break\n",
    "    return print(f\"The result is {b}\")\n",
    "\n",
    "giveResult()"
   ]
  },
  {
   "cell_type": "code",
   "execution_count": 43,
   "metadata": {},
   "outputs": [],
   "source": [
    "# Define a function to ask the player to choose 4 colours between Blue, Green, Orange, Pink, Red, Yellow \n",
    "def askPlayer():\n",
    "    for i in range(len(computer)):\n",
    "        player[i] = input(f\"Choose a colour for position number {i+1}: \")\n",
    "        "
   ]
  },
  {
   "cell_type": "code",
   "execution_count": 44,
   "metadata": {},
   "outputs": [
    {
     "name": "stdout",
     "output_type": "stream",
     "text": [
      "['Pink', 'Blue', 'Yellow', 'Blue']\n"
     ]
    }
   ],
   "source": [
    "# Define the choice of the computer\n",
    "computer = randomColour()\n",
    "print(computer)"
   ]
  },
  {
   "cell_type": "code",
   "execution_count": null,
   "metadata": {},
   "outputs": [],
   "source": [
    "# Play the game. The game is composed of a maximum of 10 rounds. if after 10 rounds the user has not found the \n",
    "# computer's choice then the computer wins\n",
    "for i in range(10):\n",
    "    askPlayer()\n",
    "    giveResult()\n",
    "    if result = []"
   ]
  },
  {
   "cell_type": "code",
   "execution_count": null,
   "metadata": {},
   "outputs": [],
   "source": []
  },
  {
   "cell_type": "code",
   "execution_count": null,
   "metadata": {},
   "outputs": [],
   "source": [
    "\n"
   ]
  }
 ],
 "metadata": {
  "kernelspec": {
   "display_name": "Python 3",
   "language": "python",
   "name": "python3"
  },
  "language_info": {
   "codemirror_mode": {
    "name": "ipython",
    "version": 3
   },
   "file_extension": ".py",
   "mimetype": "text/x-python",
   "name": "python",
   "nbconvert_exporter": "python",
   "pygments_lexer": "ipython3",
   "version": "3.7.3"
  }
 },
 "nbformat": 4,
 "nbformat_minor": 2
}
